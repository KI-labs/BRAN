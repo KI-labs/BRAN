{
 "cells": [
  {
   "cell_type": "markdown",
   "metadata": {},
   "source": [
    "### Face detection speed comparisson"
   ]
  },
  {
   "cell_type": "code",
   "execution_count": 1,
   "metadata": {},
   "outputs": [],
   "source": [
    "import os\n",
    "import face_recognition\n",
    "import imutils\n",
    "from imutils import face_utils\n",
    "import pickle\n",
    "import argparse\n",
    "import itertools\n",
    "import numpy as np\n",
    "import dlib\n",
    "import cv2"
   ]
  },
  {
   "cell_type": "code",
   "execution_count": 2,
   "metadata": {},
   "outputs": [],
   "source": [
    "os.chdir('..')"
   ]
  },
  {
   "cell_type": "code",
   "execution_count": 3,
   "metadata": {
    "scrolled": true
   },
   "outputs": [
    {
     "name": "stdout",
     "output_type": "stream",
     "text": [
      "/Users/A.IVA/Documents/jupyter_notebooks/rest/coursera_and_blogs/three-eyed-raven\r\n"
     ]
    }
   ],
   "source": [
    "! pwd"
   ]
  },
  {
   "cell_type": "markdown",
   "metadata": {},
   "source": [
    "##### 1 Load data"
   ]
  },
  {
   "cell_type": "code",
   "execution_count": 7,
   "metadata": {},
   "outputs": [],
   "source": [
    "##################################################################\n",
    "# edit it such that you have the directory structure shown below #\n",
    "##################################################################\n",
    "\n",
    "# base_path = os.path.join('face-recognition-opencv', 'dataset')\n",
    "base_path = os.path.join('dataset')"
   ]
  },
  {
   "cell_type": "markdown",
   "metadata": {},
   "source": [
    "Expected directory structure\n",
    "```\n",
    "base_path\n",
    "├── alan_grant\n",
    "│   ├── 00000000.jpg\n",
    "│   ├── 00000002.jpg\n",
    "├── alan_grant\n",
    "│   ├── 00000000.jpg\n",
    "│   ├── 00000002.jpg\n",
    "├── claire_dearing\n",
    "│   ├── 00000000.jpg\n",
    "│   ├── 00000002.jpg\n",
    "├── ellie_sattler\n",
    "│   ├── 00000000.jpg\n",
    "│   ├── 00000002.jpg\n",
    "├── ian_malcolm\n",
    "│   ├── 00000000.jpg\n",
    "│   ├── 00000002.jpg\n",
    "├── john_hammond\n",
    "│   ├── 00000000.jpg\n",
    "│   ├── 00000002.jpg\n",
    "└──  owen_grady\n",
    "    ├── 00000000.jpg\n",
    "    ├── 00000002.jpg\n",
    "```"
   ]
  },
  {
   "cell_type": "code",
   "execution_count": 4,
   "metadata": {},
   "outputs": [
    {
     "data": {
      "text/plain": [
       "218"
      ]
     },
     "execution_count": 4,
     "metadata": {},
     "output_type": "execute_result"
    }
   ],
   "source": [
    "def get_images_from_dir(directory):\n",
    "    \n",
    "    images = os.listdir(directory)\n",
    "    images = list(map(lambda x: cv2.imread(os.path.join(directory, x)), images))\n",
    "    \n",
    "    return images\n",
    "\n",
    "# dirs = ['alan_grant', 'claire_dearing', 'ellie_sattler', 'ian_malcolm', 'john_hammond', 'owen_grady']\n",
    "dirs = ['adrian', 'ian_malcolm', 'M S Shankar']\n",
    "dirs = list(map(lambda x: os.path.join(base_path, x) , dirs))\n",
    "\n",
    "images = list(map(lambda x: get_images_from_dir(x), dirs))\n",
    "images = list(itertools.chain(*images))\n",
    "\n",
    "len(images)"
   ]
  },
  {
   "cell_type": "markdown",
   "metadata": {},
   "source": [
    "##### 2 Algorithms for face detection"
   ]
  },
  {
   "cell_type": "code",
   "execution_count": 5,
   "metadata": {},
   "outputs": [],
   "source": [
    "#   - cv2.CascadeClassifier()\n",
    "#     rectangles may be partially outside the original image\n",
    "#     examples in opencv_source_code/samples/python/facedetect.py\n",
    "# \n",
    "#   - dlib.get_frontal_face_detector(img, number_of_times_to_upsample)\n",
    "# \n",
    "#   - face_recognition.face_locations(img=..., number_of_times_to_upsample=..., model=...)  \n",
    "#     If model != 'cnn' then dlib.get_frontal_face_detector(img, number_of_times_to_upsample) is called"
   ]
  },
  {
   "cell_type": "code",
   "execution_count": 62,
   "metadata": {},
   "outputs": [],
   "source": [
    "####################################\n",
    "#      cv2.CascadeClassifier()     # \n",
    "####################################\n",
    "\n",
    "detector_cascade = cv2.CascadeClassifier(os.path.join('facial-landmarks', 'haarcascade_frontalface_default.xml'))\n",
    "\n",
    "def get_boxes_cascade(image, detector_cascade):\n",
    "    \n",
    "    gray = cv2.cvtColor(imutils.resize(image, width=500), cv2.COLOR_BGR2GRAY)\n",
    "    \n",
    "    boxes_cascade = detector_cascade.detectMultiScale(gray, scaleFactor=1.1,\n",
    "                                                      minNeighbors=5, minSize=(30, 30),\n",
    "                                                      flags=cv2.CASCADE_SCALE_IMAGE)\n",
    "    \n",
    "    if len(boxes_cascade) > 0:\n",
    "        return boxes_cascade.tolist()\n",
    "    return None"
   ]
  },
  {
   "cell_type": "code",
   "execution_count": 66,
   "metadata": {},
   "outputs": [
    {
     "name": "stdout",
     "output_type": "stream",
     "text": [
      "9.44 s ± 65.1 ms per loop (mean ± std. dev. of 2 runs, 1 loop each)\n"
     ]
    }
   ],
   "source": [
    "%%timeit -r2 -n1\n",
    "boxes_cascade = list(map(lambda x: get_boxes_cascade(x, detector_cascade), images))"
   ]
  },
  {
   "cell_type": "code",
   "execution_count": 74,
   "metadata": {},
   "outputs": [],
   "source": [
    "####################################\n",
    "# dlib.get_frontal_face_detector() # \n",
    "####################################\n",
    "\n",
    "detector_dlib = dlib.get_frontal_face_detector()\n",
    "\n",
    "def get_boxes_cascade(image, detector_dlib):\n",
    "    \n",
    "    gray = cv2.cvtColor(imutils.resize(image, width=500), cv2.COLOR_BGR2GRAY)\n",
    "    \n",
    "    boxes_dlib = detector_dlib(gray, 2)\n",
    "    \n",
    "    return boxes_dlib\n",
    "\n",
    "# [(left,top),(right,bottom)]\n",
    "# boxes_2 = detector(gray, 2)\n",
    "# boxes_2"
   ]
  },
  {
   "cell_type": "code",
   "execution_count": 75,
   "metadata": {},
   "outputs": [
    {
     "name": "stdout",
     "output_type": "stream",
     "text": [
      "56.9 s ± 595 ms per loop (mean ± std. dev. of 2 runs, 1 loop each)\n"
     ]
    }
   ],
   "source": [
    "%%timeit -r2 -n1\n",
    "boxes_dlib = list(map(lambda x: get_boxes_cascade(x, detector_dlib), images))"
   ]
  }
 ],
 "metadata": {
  "kernelspec": {
   "display_name": "face_rec",
   "language": "python",
   "name": "face_rec"
  },
  "language_info": {
   "codemirror_mode": {
    "name": "ipython",
    "version": 3
   },
   "file_extension": ".py",
   "mimetype": "text/x-python",
   "name": "python",
   "nbconvert_exporter": "python",
   "pygments_lexer": "ipython3",
   "version": "3.7.2"
  }
 },
 "nbformat": 4,
 "nbformat_minor": 2
}
